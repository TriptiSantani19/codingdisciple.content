{
 "cells": [
  {
   "cell_type": "markdown",
   "metadata": {},
   "source": [
    "Suppose that we are in the data science team for an orange juice company. In the meeting, the marketing team claimed that their new marketing strategy resulted in an increase of sales. The management team asked us to determine if the claims made by marketing are true.\n",
    "\n",
    "This is the data from January and February. \n",
    "\n",
    "+ Average Daily Sales in January = \\$10,000, sample size = 31, variance = 10,000,000\n",
    "+ Average Daily Sales in February = \\$12,000, sample size = 28, variance = 20,000,000\n",
    "\n",
    "<b>How do we know that the increase in daily orange juice sales was not due to random variation in data?</b>\n",
    "\n",
    "### The Hypothesis\n",
    "\n",
    "The amount of sales per day is not consistent throughout the month. The January data has a variance of 10,000,000 and a standard deviation of ~3162. On bad days, we would sell \\$8,000 of orange juice. On good days, we would sell $14,000 of orange juice. We have to prove that the increase in average daily sales in February did not occur purely by chance.\n",
    "\n",
    "The null hypothesis would be:\n",
    "\n",
    "$ H_0 : \\mu_0 = \\text{\\$10,000} $\n",
    "\n",
    "There are three possible alternative hypothesis:\n",
    "\n",
    "1. $ H_a : \\mu_1 > \\text{\\$10,000}$\n",
    "2. $ H_a : \\mu_1 < \\text{\\$10,000}$\n",
    "3. $ H_a : \\mu_1 \\ne \\text{\\$10,000}$\n",
    "\n",
    "Where $\\mu$ is the average daily sales. If we are interested in concluding that the average daily sales is greater than \\$10,000, then we would go with the first alternative hypothesis. If we are interested in concluding that the average daily sales is less than \\$10,000, then we would go with the second alternative hypothesis. If we are interested in concluding that the average daily sales differs from \\$10,000, then we would go with the third alternative hypothesis.\n",
    "\n",
    "In our case, the marketing department claimed that the sales has increased. So we would use the first alternative hypothesis.\n",
    "\n",
    "### Type I and II Errors\n",
    "\n",
    "We have to determine whether we accept or reject the null hypothesis. This could result in four different outcomes.\n",
    "\n",
    "1. Retained the null hypothesis, and the null hypothesis was correct. (No error)\n",
    "2. Retained the null hypothesis, but the alternative hypothesis was correct. (Type II error, false negative)\n",
    "\n",
    "3. Rejected the null hypothesis, but the null hypothesis was correct. (Type I error, false positive)\n",
    "4. Rejected the null hypothesis, and the alternative hypothesis was correct. (No error)\n",
    "\n",
    "Hypothesis testing uses the same logic as a court trial.  The null hypothesis(defendent) is innocent until proven guilty. We use data as evidence to determine if the claims made against the null hypothesis is true.\n"
   ]
  },
  {
   "cell_type": "markdown",
   "metadata": {},
   "source": [
    "### Significance Level\n",
    "\n",
    "In order to come to a decision, we would have to calculate the probability of getting an average daily sales of \\$12,000 due to random chance. If this probability is high, we would retain the null hypothesis. If this probability is low, we would reject the null hypothesis. This probability threshold known as the <b>significance level, or $\\alpha$</b>. Many statisticians typically use $\\alpha$ = 0.05.\n",
    "\n",
    "To visualize this using the normal distribution, recall that we've chosen to prove that $\\mu_1 > \\mu_0$. This is called a <b>right-tailed test</b>."
   ]
  },
  {
   "cell_type": "code",
   "execution_count": 1,
   "metadata": {},
   "outputs": [
    {
     "data": {
      "image/png": "[encoded data removed]",
      "text/plain": [
       "<matplotlib.figure.Figure at 0x27c291c76a0>"
      ]
     },
     "metadata": {},
     "output_type": "display_data"
    }
   ],
   "source": [
    "import matplotlib.pyplot as plt\n",
    "import numpy as np\n",
    "import math\n",
    "import seaborn as sns\n",
    "from scipy.integrate import simps\n",
    "%matplotlib inline\n",
    "\n",
    "#The Gaussian Function\n",
    "def g(x):\n",
    "    return 1/(math.sqrt(1**math.pi))*np.exp(-1*np.power((x - 0)/1, 2)/2)\n",
    "\n",
    "fig = plt.figure(figsize=(10,3))\n",
    "x = np.linspace(-300, 300, 10000)\n",
    "sns.set(font_scale=2)\n",
    "\n",
    "#Draws the gaussian curve\n",
    "ax = fig.add_subplot(1, 1, 1)\n",
    "ax.plot(x, g(x))\n",
    "ax.set_ylim(bottom = 0, top = 1.1)\n",
    "ax.set_xlim(left = -4, right = 4)\n",
    "ax.set_yticks([])\n",
    "plt.xticks([0, 1.645], \n",
    "               [r'$\\mu_0$', r'$t_\\alpha$']\n",
    "              )\n",
    "    \n",
    "#Fills the area under the curve\n",
    "section = np.arange(1.645, 300, 1/2000)\n",
    "ax.fill_between(section, g(section))\n",
    "\n",
    "#Calculates the area under the curve using Simpson's Rule\n",
    "x_range = np.linspace(1.645, 300, 2000)\n",
    "y_range = g(x_range) \n",
    "area_total = simps(g(x), x)\n",
    "area_part = simps(y_range , x_range)\n",
    "percent_data = np.round((area_part/area_total), 2)\n",
    "ax.annotate(r'$\\alpha$ = {}'.format(percent_data), xy=(3, 0.1), ha='center')\n",
    "ax.annotate('{}'.format(1-percent_data), xy=(0, 0.5), ha='center')\n",
    "ax.annotate('Rejection '.format(1-percent_data), xy=(0, 0.2), ha='center')\n",
    "plt.show()"
   ]
  },
  {
   "cell_type": "markdown",
   "metadata": {},
   "source": [
    "We don't know where the data from February is on this distribution. That is something we have to calculate. If we find more than 5% of the February data in the rejection region, this means that we reject the alternative hypothesis and retain the null hypothesis. If we end up in the alpha region. The null hypothesis is rejected, and we are 95% confident about our decision, leaving a 5% chance for a type I error.\n",
    "\n",
    "If our alternative hypothesis was $\\mu_1 < \\mu_0$, then we would have to use a <b>left-tailed test</b>, which is simply the flipped veresion of the right-tailed test.\n",
    "\n",
    "If our alternative hypothesis was $\\mu_1 \\ne \\mu_0$, then we would have to use a <b>two-tailed test</b>, which is both the left and right tailed test combined with $\\alpha$ = 0.025."
   ]
  },
  {
   "cell_type": "markdown",
   "metadata": {},
   "source": [
    "### The Welch's t-test\n",
    "\n",
    "One way to tackle this problem is to calculate the probability of finding February data in the rejection region using the Welch's t-test. This version of the t-test can be used for equal or unequal sample sizes. In addition, this t-test can be used for two samples with different variances. This is often praised as the most robust form of the t-test. However, the Welch's t-test assumes that the two samples of data are independent and identically distributed.\n",
    "\n",
    "The t-score can be calculated using the following formula:\n",
    "\n",
    "$$ t_{score} = \\frac {\\bar {X}_1 - \\bar {X}_2} {s_{Welch}}$$\n",
    "\n",
    "$$ s_{Welch}  = \\sqrt{\\frac{s^2_1} {n_1}+\\frac{s^2_2} {n_2}} $$\n",
    "\n",
    "The degrees of freedom can be calculated using the following formula:\n",
    "\n",
    "$$ DoF = \\frac{\\bigg({\\frac{s^2_1} {n_1}+\\frac{s^2_2} {n_2}}\\bigg)^2} {\\frac{({s^2_1}/{n_1})^2}{n_1-1} + \\frac{({s^2_2}/{n_2})^2}{n_2-1}}$$\n",
    "\n",
    "Where $\\bar {X}$ is the sample average, $s$ is the variance, and $n$ is the sample size. With the degrees of freedom and the t-score, we can simply use a t-table or a t-distribution calculator to determine the probability of getting an average daily sales of \\$12,000 due to random chance. This probability is known as the <b>p-value</b>. If the p-value is less than the significance level, then we can conclude that our data is statistically significant. As a result, the null hypothesis will be rejected.\n",
    "\n",
    "We could calculate the t-score and the degrees of freedom by plugging in every number into python, and then looking up a t-table. But it is easier to just use the scipy.states module. Click [here](https://docs.scipy.org/doc/scipy/reference/stats.html) for the link to the documentation."
   ]
  },
  {
   "cell_type": "code",
   "execution_count": 2,
   "metadata": {},
   "outputs": [
    {
     "data": {
      "text/plain": [
       "Ttest_indResult(statistic=1.9641226483541647, pvalue=0.05531232625026703)"
      ]
     },
     "execution_count": 2,
     "metadata": {},
     "output_type": "execute_result"
    }
   ],
   "source": [
    "from scipy.stats import ttest_ind_from_stats\n",
    "\n",
    "t_score = ttest_ind_from_stats(mean1=12000, std1=np.sqrt(10000000), nobs1=31, \\\n",
    "                               mean2=10000, std2=np.sqrt(20000000), nobs2=28, \\\n",
    "                               equal_var=False)\n",
    "t_score"
   ]
  },
  {
   "cell_type": "markdown",
   "metadata": {},
   "source": [
    "From the Welch's t-test we ended up with a p-value of 0.055. Scipy calculates this value based on the two tailed case. If we just want the p-value of the right-tail, we can divide this value by 2. This means that the probability that there is a ~2.57% chance of finding the observed values from February in the rejection region. So we are 97.43% confident that the alternative hypothesis is correct. In conclusion, we will reject the null hypothesis."
   ]
  },
  {
   "cell_type": "markdown",
   "metadata": {},
   "source": [
    "### The Welch's t-test with Facebook Data\n",
    "\n",
    "Let's try using real data this time. I've taken data from UCI's machine learning repository. Click [here](https://archive.ics.uci.edu/ml/datasets/Facebook+metrics) for the link to the documentation and citation. In summary, \n",
    "the data is related to 'posts' published during the year of 2014 on the Facebook's page of a renowned cosmetics brand. \n",
    "\n",
    "Suppose our cosmetics company wants more skin in the digital marketing game. We are interested in using Facebook as a platform to advertise our company. Let's start with some simple data exploration."
   ]
  },
  {
   "cell_type": "code",
   "execution_count": 3,
   "metadata": {},
   "outputs": [
    {
     "data": {
      "text/html": [
       "<div>\n",
       "<style scoped>\n",
       "    .dataframe tbody tr th:only-of-type {\n",
       "        vertical-align: middle;\n",
       "    }\n",
       "\n",
       "    .dataframe tbody tr th {\n",
       "        vertical-align: top;\n",
       "    }\n",
       "\n",
       "    .dataframe thead th {\n",
       "        text-align: right;\n",
       "    }\n",
       "</style>\n",
       "<table border=\"1\" class=\"dataframe\">\n",
       "  <thead>\n",
       "    <tr style=\"text-align: right;\">\n",
       "      <th></th>\n",
       "      <th>Page total likes</th>\n",
       "      <th>Type</th>\n",
       "      <th>Category</th>\n",
       "      <th>Post Month</th>\n",
       "      <th>Post Weekday</th>\n",
       "      <th>Post Hour</th>\n",
       "      <th>Paid</th>\n",
       "      <th>Lifetime Post Total Reach</th>\n",
       "      <th>Lifetime Post Total Impressions</th>\n",
       "      <th>Lifetime Engaged Users</th>\n",
       "      <th>Lifetime Post Consumers</th>\n",
       "      <th>Lifetime Post Consumptions</th>\n",
       "      <th>Lifetime Post Impressions by people who have liked your Page</th>\n",
       "      <th>Lifetime Post reach by people who like your Page</th>\n",
       "      <th>Lifetime People who have liked your Page and engaged with your post</th>\n",
       "      <th>comment</th>\n",
       "      <th>like</th>\n",
       "      <th>share</th>\n",
       "      <th>Total Interactions</th>\n",
       "    </tr>\n",
       "  </thead>\n",
       "  <tbody>\n",
       "    <tr>\n",
       "      <th>0</th>\n",
       "      <td>139441</td>\n",
       "      <td>Photo</td>\n",
       "      <td>2</td>\n",
       "      <td>12</td>\n",
       "      <td>4</td>\n",
       "      <td>3</td>\n",
       "      <td>0.0</td>\n",
       "      <td>2752</td>\n",
       "      <td>5091</td>\n",
       "      <td>178</td>\n",
       "      <td>109</td>\n",
       "      <td>159</td>\n",
       "      <td>3078</td>\n",
       "      <td>1640</td>\n",
       "      <td>119</td>\n",
       "      <td>4</td>\n",
       "      <td>79.0</td>\n",
       "      <td>17.0</td>\n",
       "      <td>100</td>\n",
       "    </tr>\n",
       "    <tr>\n",
       "      <th>1</th>\n",
       "      <td>139441</td>\n",
       "      <td>Status</td>\n",
       "      <td>2</td>\n",
       "      <td>12</td>\n",
       "      <td>3</td>\n",
       "      <td>10</td>\n",
       "      <td>0.0</td>\n",
       "      <td>10460</td>\n",
       "      <td>19057</td>\n",
       "      <td>1457</td>\n",
       "      <td>1361</td>\n",
       "      <td>1674</td>\n",
       "      <td>11710</td>\n",
       "      <td>6112</td>\n",
       "      <td>1108</td>\n",
       "      <td>5</td>\n",
       "      <td>130.0</td>\n",
       "      <td>29.0</td>\n",
       "      <td>164</td>\n",
       "    </tr>\n",
       "    <tr>\n",
       "      <th>2</th>\n",
       "      <td>139441</td>\n",
       "      <td>Photo</td>\n",
       "      <td>3</td>\n",
       "      <td>12</td>\n",
       "      <td>3</td>\n",
       "      <td>3</td>\n",
       "      <td>0.0</td>\n",
       "      <td>2413</td>\n",
       "      <td>4373</td>\n",
       "      <td>177</td>\n",
       "      <td>113</td>\n",
       "      <td>154</td>\n",
       "      <td>2812</td>\n",
       "      <td>1503</td>\n",
       "      <td>132</td>\n",
       "      <td>0</td>\n",
       "      <td>66.0</td>\n",
       "      <td>14.0</td>\n",
       "      <td>80</td>\n",
       "    </tr>\n",
       "    <tr>\n",
       "      <th>3</th>\n",
       "      <td>139441</td>\n",
       "      <td>Photo</td>\n",
       "      <td>2</td>\n",
       "      <td>12</td>\n",
       "      <td>2</td>\n",
       "      <td>10</td>\n",
       "      <td>1.0</td>\n",
       "      <td>50128</td>\n",
       "      <td>87991</td>\n",
       "      <td>2211</td>\n",
       "      <td>790</td>\n",
       "      <td>1119</td>\n",
       "      <td>61027</td>\n",
       "      <td>32048</td>\n",
       "      <td>1386</td>\n",
       "      <td>58</td>\n",
       "      <td>1572.0</td>\n",
       "      <td>147.0</td>\n",
       "      <td>1777</td>\n",
       "    </tr>\n",
       "    <tr>\n",
       "      <th>4</th>\n",
       "      <td>139441</td>\n",
       "      <td>Photo</td>\n",
       "      <td>2</td>\n",
       "      <td>12</td>\n",
       "      <td>2</td>\n",
       "      <td>3</td>\n",
       "      <td>0.0</td>\n",
       "      <td>7244</td>\n",
       "      <td>13594</td>\n",
       "      <td>671</td>\n",
       "      <td>410</td>\n",
       "      <td>580</td>\n",
       "      <td>6228</td>\n",
       "      <td>3200</td>\n",
       "      <td>396</td>\n",
       "      <td>19</td>\n",
       "      <td>325.0</td>\n",
       "      <td>49.0</td>\n",
       "      <td>393</td>\n",
       "    </tr>\n",
       "  </tbody>\n",
       "</table>\n",
       "</div>"
      ],
      "text/plain": [
       "   Page total likes    Type  Category  Post Month  Post Weekday  Post Hour  \\\n",
       "0            139441   Photo         2          12             4          3   \n",
       "1            139441  Status         2          12             3         10   \n",
       "2            139441   Photo         3          12             3          3   \n",
       "3            139441   Photo         2          12             2         10   \n",
       "4            139441   Photo         2          12             2          3   \n",
       "\n",
       "   Paid  Lifetime Post Total Reach  Lifetime Post Total Impressions  \\\n",
       "0   0.0                       2752                             5091   \n",
       "1   0.0                      10460                            19057   \n",
       "2   0.0                       2413                             4373   \n",
       "3   1.0                      50128                            87991   \n",
       "4   0.0                       7244                            13594   \n",
       "\n",
       "   Lifetime Engaged Users  Lifetime Post Consumers  \\\n",
       "0                     178                      109   \n",
       "1                    1457                     1361   \n",
       "2                     177                      113   \n",
       "3                    2211                      790   \n",
       "4                     671                      410   \n",
       "\n",
       "   Lifetime Post Consumptions  \\\n",
       "0                         159   \n",
       "1                        1674   \n",
       "2                         154   \n",
       "3                        1119   \n",
       "4                         580   \n",
       "\n",
       "   Lifetime Post Impressions by people who have liked your Page  \\\n",
       "0                                               3078              \n",
       "1                                              11710              \n",
       "2                                               2812              \n",
       "3                                              61027              \n",
       "4                                               6228              \n",
       "\n",
       "   Lifetime Post reach by people who like your Page  \\\n",
       "0                                              1640   \n",
       "1                                              6112   \n",
       "2                                              1503   \n",
       "3                                             32048   \n",
       "4                                              3200   \n",
       "\n",
       "   Lifetime People who have liked your Page and engaged with your post  \\\n",
       "0                                                119                     \n",
       "1                                               1108                     \n",
       "2                                                132                     \n",
       "3                                               1386                     \n",
       "4                                                396                     \n",
       "\n",
       "   comment    like  share  Total Interactions  \n",
       "0        4    79.0   17.0                 100  \n",
       "1        5   130.0   29.0                 164  \n",
       "2        0    66.0   14.0                  80  \n",
       "3       58  1572.0  147.0                1777  \n",
       "4       19   325.0   49.0                 393  "
      ]
     },
     "execution_count": 3,
     "metadata": {},
     "output_type": "execute_result"
    }
   ],
   "source": [
    "import pandas as pd\n",
    "data = pd.read_csv('dataset_Facebook.csv', delimiter=';')\n",
    "data.head()"
   ]
  },
  {
   "cell_type": "markdown",
   "metadata": {},
   "source": [
    "We are interested in knowing the amount of likes a 'Paid' post gets vs. an \"Unpaid\" post. Let's start with some histograms and descriptive statistics."
   ]
  },
  {
   "cell_type": "code",
   "execution_count": 4,
   "metadata": {},
   "outputs": [
    {
     "data": {
      "image/png": "[encoded data removed]",
      "text/plain": [
       "<matplotlib.figure.Figure at 0x27c33533a58>"
      ]
     },
     "metadata": {},
     "output_type": "display_data"
    },
    {
     "name": "stdout",
     "output_type": "stream",
     "text": [
      "sample_size: 360\n",
      "sample_mean: 155.84679665738162\n",
      "sample_variance: 48403.23623970993\n"
     ]
    }
   ],
   "source": [
    "unpaid_likes = data[data['Paid']==0]['like']\n",
    "sns.set(font_scale=1.6)\n",
    "fig = plt.figure(figsize=(10,3))\n",
    "ax=unpaid_likes.hist(range=(0, 1500),bins=30)\n",
    "ax.set_xlim(0,1500)\n",
    "\n",
    "plt.xlabel('Likes (Paid)')\n",
    "plt.ylabel('Frequency')\n",
    "plt.show()\n",
    "\n",
    "print('sample_size: {}'.format(unpaid_likes.shape[0]))\n",
    "print('sample_mean: {}'.format(unpaid_likes.mean()))\n",
    "print('sample_variance: {}'.format(unpaid_likes.var()))"
   ]
  },
  {
   "cell_type": "code",
   "execution_count": 5,
   "metadata": {},
   "outputs": [
    {
     "data": {
      "image/png": "[encoded data removed]",
      "text/plain": [
       "<matplotlib.figure.Figure at 0x27c291b0128>"
      ]
     },
     "metadata": {},
     "output_type": "display_data"
    },
    {
     "name": "stdout",
     "output_type": "stream",
     "text": [
      "sample_size: 139\n",
      "sample_mean: 235.6474820143885\n",
      "sample_variance: 247175.07048274425\n"
     ]
    }
   ],
   "source": [
    "paid_likes = data[data['Paid']==1]['like']\n",
    "fig = plt.figure(figsize=(11,3))\n",
    "ax=paid_likes.hist(range=(0, 1500),bins=30)\n",
    "ax.set_xlim(0,1500)\n",
    "\n",
    "plt.xlabel('Likes (Unpaid)')\n",
    "plt.ylabel('Frequency')\n",
    "plt.show()\n",
    "\n",
    "print('sample_size: {}'.format(paid_likes.shape[0]))\n",
    "print('sample_mean: {}'.format(paid_likes.mean()))\n",
    "print('sample_variance: {}'.format(paid_likes.var()))"
   ]
  },
  {
   "cell_type": "markdown",
   "metadata": {},
   "source": [
    "We immediately notice that the sample mean of 'likes' in paid posts was higher than the sample mean of 'likes' in unpaid posts. We need to determine if the data we have is statistically significant. \n",
    "\n",
    "The null hypothesis would suggest that paying for advertisements does not increase the amount of likes.\n",
    "\n",
    "$$ H_0 : \\mu_0 = \\text{139 likes} $$\n",
    "\n",
    "The alternative hypothesis would suggest that paying for advertisements does increase the amount of likes.\n",
    "\n",
    "$$ H_a : \\mu_1 > \\text{139 likes}$$\n",
    "\n",
    "We can come to a decision using the right-tailed Welch's t-test again. This time, we'll calculate the p-value in using the formulas in the previous section instead of the scipy module."
   ]
  },
  {
   "cell_type": "code",
   "execution_count": 6,
   "metadata": {},
   "outputs": [
    {
     "name": "stdout",
     "output_type": "stream",
     "text": [
      "t-value: 1.8246693381852654\n"
     ]
    }
   ],
   "source": [
    "s_welch = np.sqrt(paid_likes.var()/paid_likes.shape[0] + unpaid_likes.var()/unpaid_likes.shape[0])\n",
    "t=(paid_likes.mean()-unpaid_likes.mean())/s_welch\n",
    "print('t-value: {}'.format(t))"
   ]
  },
  {
   "cell_type": "code",
   "execution_count": 7,
   "metadata": {},
   "outputs": [
    {
     "name": "stdout",
     "output_type": "stream",
     "text": [
      "degrees of freedom: 159.30733891825585\n"
     ]
    }
   ],
   "source": [
    "df_num = (paid_likes.var()/paid_likes.shape[0] + unpaid_likes.var()/unpaid_likes.shape[0])**2\n",
    "df_dem = (\n",
    "    (paid_likes.var()/paid_likes.shape[0])**2/(paid_likes.shape[0]-1)) + \\\n",
    "    (unpaid_likes.var()/unpaid_likes.shape[0])**2/(unpaid_likes.shape[0]-1)\n",
    "df = df_num/df_dem\n",
    "print('degrees of freedom: {}'.format(df))"
   ]
  },
  {
   "cell_type": "markdown",
   "metadata": {},
   "source": [
    "According to the [t-table](https://www.stat.tamu.edu/~lzhou/stat302/T-Table.pdf), we only need a t-score of 1.658 and degrees of freedom of at least 120 to get a p-value of 0.05. We can be at least 95% confident in rejecting the null hypothesis.\n",
    "\n",
    "Next, we'll use scipy again to determine the exact p-value."
   ]
  },
  {
   "cell_type": "code",
   "execution_count": 8,
   "metadata": {},
   "outputs": [
    {
     "data": {
      "text/plain": [
       "Ttest_indResult(statistic=1.8246693381852654, pvalue=0.06992430563915134)"
      ]
     },
     "execution_count": 8,
     "metadata": {},
     "output_type": "execute_result"
    }
   ],
   "source": [
    "from scipy.stats import ttest_ind_from_stats\n",
    "\n",
    "t_score = ttest_ind_from_stats(paid_likes.mean(), paid_likes.std(), paid_likes.shape[0], \\\n",
    "                               unpaid_likes.mean(), unpaid_likes.std(), unpaid_likes.shape[0], \\\n",
    "                               equal_var=False)\n",
    "t_score"
   ]
  },
  {
   "cell_type": "markdown",
   "metadata": {},
   "source": [
    "From the Welch's t-test we ended up with a two-tailed p-value of ~0.07. This means that the probability that there is a ~3.5% chance of finding the observed values from the \"paid\" posts in the rejection region. So we are 96.5% confident that the alternative hypothesis is correct. In conclusion, we will reject the null hypothesis and consider investing in Facebook advertisements based on our data."
   ]
  },
  {
   "cell_type": "markdown",
   "metadata": {},
   "source": [
    "---\n",
    "\n",
    "The files used for this article can be found in my [GitHub repository](https://github.com/sengkchu/codingdisciple.content/tree/master/Learning%20data%20science/Learning/Understanding%20Descriptive%20Statistics/Hypothesis%20Testing)."
   ]
  }
 ],
 "metadata": {
  "kernelspec": {
   "display_name": "Python 3",
   "language": "python",
   "name": "python3"
  },
  "language_info": {
   "codemirror_mode": {
    "name": "ipython",
    "version": 3
   },
   "file_extension": ".py",
   "mimetype": "text/x-python",
   "name": "python",
   "nbconvert_exporter": "python",
   "pygments_lexer": "ipython3",
   "version": "3.5.4"
  }
 },
 "nbformat": 4,
 "nbformat_minor": 2
}
