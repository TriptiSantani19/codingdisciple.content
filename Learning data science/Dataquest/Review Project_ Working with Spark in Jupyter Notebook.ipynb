{
 "cells": [
  {
   "cell_type": "markdown",
   "metadata": {},
   "source": [
    "This is more of a review project from one of the missions on dataquest. We are going to use Apache Spark 1.5 with Jupyter. Instead of doing any heavy analysis. This project will focus more on the syntax.\n",
    "\n",
    "We'll be using spark with a txt file 'hamlet.txt'."
   ]
  },
  {
   "cell_type": "code",
   "execution_count": 1,
   "metadata": {
    "collapsed": true
   },
   "outputs": [],
   "source": [
    "#Initialize findspark and pyspark, create the sc object\n",
    "import findspark\n",
    "findspark.init()\n",
    "\n",
    "import pyspark\n",
    "sc = pyspark.SparkContext()"
   ]
  },
  {
   "cell_type": "code",
   "execution_count": 2,
   "metadata": {},
   "outputs": [
    {
     "name": "stdout",
     "output_type": "stream",
     "text": [
      "['hamlet@0\\t\\tHAMLET', 'hamlet@8', 'hamlet@9', 'hamlet@10\\t\\tDRAMATIS PERSONAE', 'hamlet@29']\n"
     ]
    }
   ],
   "source": [
    "#Reads the file hamlet.txt into a RDD object\n",
    "raw_hamlet = sc.textFile('hamlet.txt')\n",
    "print(raw_hamlet.take(5))"
   ]
  },
  {
   "cell_type": "markdown",
   "metadata": {},
   "source": [
    "#### The .map() method\n",
    "\n",
    "In spark, we can use the .map() method in conjunction with a lambda function to iterate through the data. This method transforms the RDD of length N to another RDD with length N."
   ]
  },
  {
   "cell_type": "code",
   "execution_count": 3,
   "metadata": {},
   "outputs": [
    {
     "data": {
      "text/plain": [
       "[['hamlet@0', '', 'HAMLET'],\n",
       " ['hamlet@8'],\n",
       " ['hamlet@9'],\n",
       " ['hamlet@10', '', 'DRAMATIS PERSONAE'],\n",
       " ['hamlet@29']]"
      ]
     },
     "execution_count": 3,
     "metadata": {},
     "output_type": "execute_result"
    }
   ],
   "source": [
    "#Iterates over every element in the list from raw data, split it into a list of lists on '\\t'\n",
    "split_hamlet = raw_hamlet.map(lambda line: line.split('\\t'))\n",
    "\n",
    "split_hamlet.take(5)"
   ]
  },
  {
   "cell_type": "markdown",
   "metadata": {},
   "source": [
    "#### The .flatMap() method\n",
    "\n",
    "This method transform an RDD of length N into a collection of N collections, then transform the collections into one RDD. This method is useful if we want to transform one RDD into another with a different length."
   ]
  },
  {
   "cell_type": "code",
   "execution_count": 4,
   "metadata": {},
   "outputs": [
    {
     "data": {
      "text/plain": [
       "[('hamlet@0', 'hamlet speaketh!'),\n",
       " ('hamlet@75', 'hamlet speaketh!'),\n",
       " ('hamlet@1004', 'hamlet speaketh!'),\n",
       " ('hamlet@9144', 'hamlet speaketh!'),\n",
       " ('hamlet@12313', 'hamlet speaketh!')]"
      ]
     },
     "execution_count": 4,
     "metadata": {},
     "output_type": "execute_result"
    }
   ],
   "source": [
    "#Extracts all the lines where hamlet speaks and yeilds a new RDD object\n",
    "def hamlet_speaks(line):\n",
    "    id = line[0]\n",
    "    speaketh = False\n",
    "    \n",
    "    if \"HAMLET\" in line:\n",
    "        speaketh = True\n",
    "    \n",
    "    if speaketh:\n",
    "        yield id,\"hamlet speaketh!\"\n",
    "\n",
    "hamlet_spoken = split_hamlet.flatMap(lambda x: hamlet_speaks(x))\n",
    "hamlet_spoken.take(5)\n"
   ]
  },
  {
   "cell_type": "markdown",
   "metadata": {},
   "source": [
    "#### The .filter() method\n",
    "\n",
    "The filter method takes in a function with boolean results. This is useful if we want to search for a certain name or value."
   ]
  },
  {
   "cell_type": "code",
   "execution_count": 5,
   "metadata": {},
   "outputs": [
    {
     "data": {
      "text/plain": [
       "[['hamlet@0', '', 'HAMLET'],\n",
       " ['hamlet@75', 'HAMLET', 'son to the late, and nephew to the present king.'],\n",
       " ['hamlet@1004', '', 'HAMLET'],\n",
       " ['hamlet@9144', '', 'HAMLET'],\n",
       " ['hamlet@12313',\n",
       "  'HAMLET',\n",
       "  '[Aside]  A little more than kin, and less than kind.']]"
      ]
     },
     "execution_count": 5,
     "metadata": {},
     "output_type": "execute_result"
    }
   ],
   "source": [
    "\n",
    "def filter_hamlet_speaks(line):\n",
    "    if \"HAMLET\" in line:\n",
    "        return True\n",
    "    else:\n",
    "        return False\n",
    "\n",
    "#Filters split_hamlet, only lines with 'HAMLET' will be kept\n",
    "\n",
    "hamlet_spoken_lines = split_hamlet.filter(lambda line: filter_hamlet_speaks(line))\n",
    "hamlet_spoken_lines.take(5)\n"
   ]
  },
  {
   "cell_type": "markdown",
   "metadata": {},
   "source": [
    "#### The .count() and .collect() actions\n",
    "\n",
    "The collect action copies the dataset to the driver. If the dataset is very large and won't fit in memory, we'll run into issues. The .take() action is generally better if we only want a certain number of elements."
   ]
  },
  {
   "cell_type": "code",
   "execution_count": 11,
   "metadata": {},
   "outputs": [
    {
     "name": "stdout",
     "output_type": "stream",
     "text": [
      "381\n",
      "[['hamlet@0', '', 'HAMLET'], ['hamlet@75', 'HAMLET', 'son to the late, and nephew to the present king.'], ['hamlet@1004', '', 'HAMLET'], ['hamlet@9144', '', 'HAMLET'], ['hamlet@12313', 'HAMLET', '[Aside]  A little more than kin, and less than kind.'], ['hamlet@12434', 'HAMLET', \"Not so, my lord; I am too much i' the sun.\"], ['hamlet@12760', 'HAMLET', 'Ay, madam, it is common.'], ['hamlet@12858', 'HAMLET', \"Seems, madam! nay it is; I know not 'seems.'\"], ['hamlet@14821', 'HAMLET', 'I shall in all my best obey you, madam.'], ['hamlet@15261', 'HAMLET', 'O, that this too too solid flesh would melt']]\n"
     ]
    }
   ],
   "source": [
    "#Counts the total number of elements in hamlet_spoken_lines\n",
    "spoken_count = hamlet_spoken_lines.count()\n",
    "\n",
    "#Collects all the elements in hamlet_spoken_lines\n",
    "spoken_101 = hamlet_spoken_lines.collect()\n",
    "\n",
    "print(spoken_count)\n",
    "print(spoken_101[0:10])"
   ]
  },
  {
   "cell_type": "markdown",
   "metadata": {},
   "source": [
    "Below are some more examples of using the .map() and .filter() methods."
   ]
  },
  {
   "cell_type": "code",
   "execution_count": 7,
   "metadata": {},
   "outputs": [
    {
     "name": "stdout",
     "output_type": "stream",
     "text": [
      "[['0', '', 'HAMLET'], ['8'], ['9'], ['10', '', 'DRAMATIS PERSONAE'], ['29']]\n"
     ]
    }
   ],
   "source": [
    "#Change each line in raw_hamlet from 'hamlet@id' to 'id' where id is an integer in each line\n",
    "raw_hamlet = sc.textFile(\"hamlet.txt\")\n",
    "split_hamlet = raw_hamlet.map(lambda line: line.split('\\t'))\n",
    "\n",
    "def line_replace(line):\n",
    "    lists = []\n",
    "    for element in line:\n",
    "        if 'hamlet@' in element:\n",
    "            lists.append(element.replace('hamlet@', ''))\n",
    "        else:\n",
    "            lists.append(element)\n",
    "    return lists\n",
    "                                                \n",
    "hamlet_with_ids = split_hamlet.map(lambda line: line_replace(line))\n",
    "print(hamlet_with_ids.take(5))\n",
    "\n"
   ]
  },
  {
   "cell_type": "code",
   "execution_count": 8,
   "metadata": {},
   "outputs": [
    {
     "data": {
      "text/plain": [
       "[['0', 'HAMLET'],\n",
       " ['10', 'DRAMATIS PERSONAE'],\n",
       " ['31', 'CLAUDIUS', 'king of Denmark. (KING CLAUDIUS:)'],\n",
       " ['75', 'HAMLET', 'son to the late, and nephew to the present king.'],\n",
       " ['132', 'POLONIUS', 'lord chamberlain. (LORD POLONIUS:)'],\n",
       " ['177', 'HORATIO', 'friend to Hamlet.'],\n",
       " ['204', 'LAERTES', 'son to Polonius.'],\n",
       " ['230', 'LUCIANUS', 'nephew to the king.'],\n",
       " ['261', 'VOLTIMAND', '|'],\n",
       " ['273', '|']]"
      ]
     },
     "execution_count": 8,
     "metadata": {},
     "output_type": "execute_result"
    }
   ],
   "source": [
    "#Remove any element with only an id and any element that is blank.\n",
    "def text_only(line):\n",
    "    lists = []\n",
    "    for element in line:\n",
    "        if element == '':\n",
    "            continue\n",
    "        else:\n",
    "            lists.append(element)\n",
    "    return lists\n",
    "\n",
    "def one_element(line):\n",
    "    if len(line) > 1:\n",
    "        return True\n",
    "    else:\n",
    "        return False\n",
    "\n",
    "hamlet_shortened = hamlet_with_ids.filter(lambda line: one_element(line))\n",
    "hamlet_text_only = hamlet_shortened.map(lambda x: text_only(x))\n",
    "hamlet_text_only.take(10)\n"
   ]
  },
  {
   "cell_type": "code",
   "execution_count": 9,
   "metadata": {},
   "outputs": [
    {
     "data": {
      "text/plain": [
       "[['0', 'HAMLET'],\n",
       " ['10', 'DRAMATIS PERSONAE'],\n",
       " ['31', 'CLAUDIUS', 'king of Denmark. (KING CLAUDIUS:)'],\n",
       " ['75', 'HAMLET', 'son to the late, and nephew to the present king.'],\n",
       " ['132', 'POLONIUS', 'lord chamberlain. (LORD POLONIUS:)'],\n",
       " ['177', 'HORATIO', 'friend to Hamlet.'],\n",
       " ['204', 'LAERTES', 'son to Polonius.'],\n",
       " ['230', 'LUCIANUS', 'nephew to the king.'],\n",
       " ['261', 'VOLTIMAND'],\n",
       " ['273']]"
      ]
     },
     "execution_count": 9,
     "metadata": {},
     "output_type": "execute_result"
    }
   ],
   "source": [
    "#Remove pipe characters.\n",
    "def line_replace2(line):\n",
    "    lists = []\n",
    "    for element in line:\n",
    "        if element == '|':\n",
    "            continue\n",
    "        elif '|' in element:\n",
    "            lists.append(element.replace('|', ''))\n",
    "        else:\n",
    "            lists.append(element)\n",
    "    return lists\n",
    "clean_hamlet = hamlet_text_only.map(lambda x: line_replace2(x))\n",
    "clean_hamlet.take(10)"
   ]
  },
  {
   "cell_type": "markdown",
   "metadata": {
    "collapsed": true
   },
   "source": [
    "---\n",
    "\n",
    "#### Learning Summary\n",
    "\n",
    "\n",
    "Concepts explored: Spark\n",
    "\n",
    "PySpark methods used: .map(), .flatMap(), .filter(), .count(), .collect(), .take()\n",
    "\n",
    "\n",
    "The files used for this project can be found in my [GitHub repository](https://github.com/sengkchu/Dataquest-Guided-Projects-Solutions/blob/master/Review%20Project_%20Working%20with%20Spark%20in%20Jupyter%20Notebook)."
   ]
  },
  {
   "cell_type": "code",
   "execution_count": null,
   "metadata": {
    "collapsed": true
   },
   "outputs": [],
   "source": []
  }
 ],
 "metadata": {
  "kernelspec": {
   "display_name": "Python 3",
   "language": "python",
   "name": "python3"
  },
  "language_info": {
   "codemirror_mode": {
    "name": "ipython",
    "version": 3
   },
   "file_extension": ".py",
   "mimetype": "text/x-python",
   "name": "python",
   "nbconvert_exporter": "python",
   "pygments_lexer": "ipython3",
   "version": "3.5.2"
  }
 },
 "nbformat": 4,
 "nbformat_minor": 2
}
