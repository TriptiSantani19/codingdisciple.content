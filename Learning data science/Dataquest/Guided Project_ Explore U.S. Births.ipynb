{
 "cells": [
  {
   "cell_type": "markdown",
   "metadata": {
    "collapsed": true
   },
   "source": [
    "In this project, we will look at the number of births in the United States in the file \"US_births_1994-2003_CDC_NCHS.csv\". First, we will use basic functions in python to convert the file into a readable format and explore the data."
   ]
  },
  {
   "cell_type": "code",
   "execution_count": 1,
   "metadata": {},
   "outputs": [
    {
     "data": {
      "text/plain": [
       "'year,month,date_of_month,day_of_week,births\\n1994,1,1,6,8096\\n1994,1,2,7,7772\\n1994,1,3,1,10142\\n1994,1,4,2,11248\\n1994,1,5,3,11053\\n1994,1,6,4,11406\\n1994,1,7,5,11251\\n1994,1,8,6,8653\\n1994,1,9,7,7910\\n1994,1,10,1,10498\\n1994,1,11,2,11706\\n1994,1,12,3,11567\\n1994,1,13,4,11212\\n1994,1,14,5,11570\\n1994,1,15,6,8660\\n1994,1,16,7,8123\\n1994,1,17,1,10567\\n1994,1,18,2,11541\\n1994,1,19,3,11257\\n1994,1,20,4,11682\\n1994,1,21,5'"
      ]
     },
     "execution_count": 1,
     "metadata": {},
     "output_type": "execute_result"
    }
   ],
   "source": [
    "#Opens the file and read it.\n",
    "file = open(\"US_births_1994-2003_CDC_NCHS.csv\", \"r\")\n",
    "data = file.read()\n",
    "\n",
    "#Prints the first 400 characters.\n",
    "data[0:400]"
   ]
  },
  {
   "cell_type": "markdown",
   "metadata": {},
   "source": [
    "It looks like each entry in the data is seperated by \"\\n\". Let's create a list with the variable \"births\" and seperate each item in the list by \\n. We can accomplish this by using the built in .split() function in python."
   ]
  },
  {
   "cell_type": "code",
   "execution_count": 2,
   "metadata": {},
   "outputs": [
    {
     "data": {
      "text/plain": [
       "['year,month,date_of_month,day_of_week,births',\n",
       " '1994,1,1,6,8096',\n",
       " '1994,1,2,7,7772',\n",
       " '1994,1,3,1,10142',\n",
       " '1994,1,4,2,11248',\n",
       " '1994,1,5,3,11053',\n",
       " '1994,1,6,4,11406',\n",
       " '1994,1,7,5,11251',\n",
       " '1994,1,8,6,8653',\n",
       " '1994,1,9,7,7910']"
      ]
     },
     "execution_count": 2,
     "metadata": {},
     "output_type": "execute_result"
    }
   ],
   "source": [
    "births = data.split(\"\\n\")\n",
    "births[0:10]"
   ]
  },
  {
   "cell_type": "markdown",
   "metadata": {},
   "source": [
    "This is still not quite what we want, each element in the list contains information on the year, month, day, day of the week, and births. We want to further break down each element in the list. We can accomplish this creating a list of lists. \n",
    "\n",
    "In addition, we want to write a generic function that can convert any csv file into this format."
   ]
  },
  {
   "cell_type": "code",
   "execution_count": 3,
   "metadata": {},
   "outputs": [
    {
     "name": "stdout",
     "output_type": "stream",
     "text": [
      "[[1994, 1, 1, 6, 8096], [1994, 1, 2, 7, 7772], [1994, 1, 3, 1, 10142], [1994, 1, 4, 2, 11248], [1994, 1, 5, 3, 11053], [1994, 1, 6, 4, 11406], [1994, 1, 7, 5, 11251], [1994, 1, 8, 6, 8653], [1994, 1, 9, 7, 7910], [1994, 1, 10, 1, 10498]]\n"
     ]
    }
   ],
   "source": [
    "def read_csv(inputs):\n",
    "    f = open(inputs, \"r\")\n",
    "    data = f.read()\n",
    "    string_list = data.split(\"\\n\")\n",
    "    #Remove the headers.\n",
    "    string_list = string_list[1:]\n",
    "    \n",
    "    #Splits each list element by ',' and append it to the final list.\n",
    "    final_list = []   \n",
    "    for i in string_list:\n",
    "        int_fields = []\n",
    "        string_fields = i.split(\",\")\n",
    "        #Converts each string to an integer.\n",
    "        for i in string_fields:\n",
    "            int_fields.append(int(i))\n",
    "        final_list.append(int_fields)   \n",
    "    return final_list\n",
    "\n",
    "cdc_list = read_csv(\"US_births_1994-2003_CDC_NCHS.csv\")\n",
    "print(cdc_list[0:10])"
   ]
  },
  {
   "cell_type": "markdown",
   "metadata": {},
   "source": [
    "Now that we have the list in the format we want, we can explore the data a little bit. Let's say we are a baby products company, and we want to know if there is a particular month when more babies will be born. If that is the case, we can produce more products in preparation for that month.\n",
    "\n",
    "We can write a function that takes the list of lists as an argument and then convert it into a dictionary with each month as the dictionary key and the number of births as the value of that key."
   ]
  },
  {
   "cell_type": "code",
   "execution_count": 4,
   "metadata": {},
   "outputs": [
    {
     "data": {
      "text/plain": [
       "{1: 3232517,\n",
       " 2: 3018140,\n",
       " 3: 3322069,\n",
       " 4: 3185314,\n",
       " 5: 3350907,\n",
       " 6: 3296530,\n",
       " 7: 3498783,\n",
       " 8: 3525858,\n",
       " 9: 3439698,\n",
       " 10: 3378814,\n",
       " 11: 3171647,\n",
       " 12: 3301860}"
      ]
     },
     "execution_count": 4,
     "metadata": {},
     "output_type": "execute_result"
    }
   ],
   "source": [
    "def month_births(inputs):\n",
    "    births_per_month = {}\n",
    "    #Loops through the list of lists.\n",
    "    for i in inputs:\n",
    "        #Sets the month as the first item, and births as the last item.\n",
    "        month = i[1]\n",
    "        births = i[-1]\n",
    "        #Add the number of births to the current value, if the key exists in the dictionary.\n",
    "        if month in births_per_month:\n",
    "            births_per_month[month] = births + int(births_per_month[month])\n",
    "        #Set the key equal to the value, if the key doesn't exist in teh dictionary.\n",
    "        else:\n",
    "            births_per_month[month] = births           \n",
    "    return births_per_month\n",
    "\n",
    "#The result is a dictionary with the month as the key and the number of births as values.\n",
    "cdc_month_births = month_births(cdc_list)\n",
    "cdc_month_births"
   ]
  },
  {
   "cell_type": "markdown",
   "metadata": {},
   "source": [
    "Looks like the total number births from 1994 - 2003 in August ended up to be the highest. However, the number might not be high enough to justify increased production of baby products.\n",
    "\n",
    "Let's repeat the process of what we just did above for the day of the week instead of month. We'll write a function that takes in the list of lists as an argument and generate a dictionary with day of the week as the key and number of births as the value. This will give us a count of the total number of births from 1994-2003 for each day of the week"
   ]
  },
  {
   "cell_type": "code",
   "execution_count": 5,
   "metadata": {},
   "outputs": [
    {
     "data": {
      "text/plain": [
       "{1: 5789166,\n",
       " 2: 6446196,\n",
       " 3: 6322855,\n",
       " 4: 6288429,\n",
       " 5: 6233657,\n",
       " 6: 4562111,\n",
       " 7: 4079723}"
      ]
     },
     "execution_count": 5,
     "metadata": {},
     "output_type": "execute_result"
    }
   ],
   "source": [
    "def dow_births(inputs):\n",
    "    births_dow = {}\n",
    "    for i in inputs:\n",
    "        dow = i[-2]\n",
    "        births = i[-1]\n",
    "        if dow in births_dow:\n",
    "            births_dow[dow] = births + int(births_dow[dow])\n",
    "        else:\n",
    "            births_dow[dow] = births           \n",
    "    return births_dow\n",
    "\n",
    "\n",
    "\n",
    "cdc_day_births = dow_births(cdc_list)\n",
    "cdc_day_births"
   ]
  },
  {
   "cell_type": "markdown",
   "metadata": {},
   "source": [
    "According to the international standard ISO-8601, the International Organization for Standardization (ISO) has decreed that Monday shall be the first day of the week. So it looks like the highest total amount of births from 1994 - 2003 is actually a Tuesday.\n",
    "\n",
    "We can repeat the process again. We'll write a function that takes in the list of lists as an argument and generate a dictionary with year as the key and number of births as the value. This time, the function will be a bit more generic. The function will take in two arguments, the data and the column index. A column index of 0 will refer to the year column, whereas a column index of 1 will refer to the month and so on. That way we can quickly generate dictionary of all the birth counts."
   ]
  },
  {
   "cell_type": "code",
   "execution_count": 6,
   "metadata": {},
   "outputs": [
    {
     "data": {
      "text/plain": [
       "{1994: 3952767,\n",
       " 1995: 3899589,\n",
       " 1996: 3891494,\n",
       " 1997: 3880894,\n",
       " 1998: 3941553,\n",
       " 1999: 3959417,\n",
       " 2000: 4058814,\n",
       " 2001: 4025933,\n",
       " 2002: 4021726,\n",
       " 2003: 4089950}"
      ]
     },
     "execution_count": 6,
     "metadata": {},
     "output_type": "execute_result"
    }
   ],
   "source": [
    "def calc_counts(data, column):\n",
    "    dictionary = {}\n",
    "    for i in data:\n",
    "        column_name = i[column]\n",
    "        births = i[-1]\n",
    "        if column_name in dictionary:\n",
    "            dictionary[column_name] = births + int(dictionary[column_name])\n",
    "        else:\n",
    "            dictionary[column_name] = births\n",
    "            \n",
    "    return dictionary\n",
    "\n",
    "cdc_year_births = calc_counts(cdc_list, 0)\n",
    "cdc_year_births"
   ]
  },
  {
   "cell_type": "markdown",
   "metadata": {},
   "source": [
    "It looks like the number of births in the US is increasing every year. \n",
    "\n",
    "Lastly, we'll use the same function again to look at the total number of births in each day of the month"
   ]
  },
  {
   "cell_type": "code",
   "execution_count": 7,
   "metadata": {},
   "outputs": [
    {
     "data": {
      "text/plain": [
       "{1: 1276557,\n",
       " 2: 1288739,\n",
       " 3: 1304499,\n",
       " 4: 1288154,\n",
       " 5: 1299953,\n",
       " 6: 1304474,\n",
       " 7: 1310459,\n",
       " 8: 1312297,\n",
       " 9: 1303292,\n",
       " 10: 1320764,\n",
       " 11: 1314361,\n",
       " 12: 1318437,\n",
       " 13: 1277684,\n",
       " 14: 1320153,\n",
       " 15: 1319171,\n",
       " 16: 1315192,\n",
       " 17: 1324953,\n",
       " 18: 1326855,\n",
       " 19: 1318727,\n",
       " 20: 1324821,\n",
       " 21: 1322897,\n",
       " 22: 1317381,\n",
       " 23: 1293290,\n",
       " 24: 1288083,\n",
       " 25: 1272116,\n",
       " 26: 1284796,\n",
       " 27: 1294395,\n",
       " 28: 1307685,\n",
       " 29: 1223161,\n",
       " 30: 1202095,\n",
       " 31: 746696}"
      ]
     },
     "execution_count": 7,
     "metadata": {},
     "output_type": "execute_result"
    }
   ],
   "source": [
    "cdc_day_births = calc_counts(cdc_list, 2)\n",
    "cdc_day_births"
   ]
  },
  {
   "cell_type": "markdown",
   "metadata": {},
   "source": [
    "We are not really seeing any patterns here other than the 31st day having signficantly less number of births compared to the rest of the days in the month. This makes sense as not every month have 31 days."
   ]
  },
  {
   "cell_type": "markdown",
   "metadata": {},
   "source": [
    "---\n",
    "\n",
    "#### Learning Summary\n",
    "\n",
    "Python concepts explored: lists, dictionaries, functions, for loops  \n",
    "Python functions and methods used: .read(), open(), .split(), .append(), int()\n",
    "\n",
    "\n",
    "The files used for this project can be found in my [GitHub repository](https://github.com/sengkchu/Dataquest-Guided-Projects-Solutions/tree/master/Guided%20Project_%20Explore%20U.S.%20Births).\n"
   ]
  },
  {
   "cell_type": "code",
   "execution_count": null,
   "metadata": {
    "collapsed": true
   },
   "outputs": [],
   "source": []
  }
 ],
 "metadata": {
  "anaconda-cloud": {},
  "kernelspec": {
   "display_name": "Python 3",
   "language": "python",
   "name": "python3"
  },
  "language_info": {
   "codemirror_mode": {
    "name": "ipython",
    "version": 3
   },
   "file_extension": ".py",
   "mimetype": "text/x-python",
   "name": "python",
   "nbconvert_exporter": "python",
   "pygments_lexer": "ipython3",
   "version": "3.5.4"
  }
 },
 "nbformat": 4,
 "nbformat_minor": 1
}
