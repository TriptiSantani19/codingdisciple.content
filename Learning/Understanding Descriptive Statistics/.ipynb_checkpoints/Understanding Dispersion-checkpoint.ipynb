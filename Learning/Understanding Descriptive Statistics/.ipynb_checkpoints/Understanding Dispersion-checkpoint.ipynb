{
 "cells": [
  {
   "cell_type": "markdown",
   "metadata": {},
   "source": [
    "In the previous article in this series, we explored the concept of central tendency. The central tedency allows us to grasp the \"middle\" of the data, but it doesn't tell us anything about the variability of the data. Specifically, how the data is spread out, or the <b>dispersion</b>.\n",
    "\n",
    "For example, the mean/median/mode of [20, 30, 40, 40, 40, 50, 60] is 40, but the mean/median/mode of [38, 39, 40, 40, 40, 41, 42] is also 40.\n",
    "\n",
    "The study of dispersion is very important in statistical data. Let's say we are pursuing a job in data science after seeing all the hype arround the field. We are interested in the big money. Well, we can check glassdoor, and find out that the average base pay is ~$120,000. But is that really the pay someone should expect as a junior data scientist? Probably not. The central tendency of the data doesn't tell us the whole story. This is why it is important to also study the dispersion in data.\n",
    "\n",
    "In this exercise, we are going to use the bike sharing dataset from UCI machine learning repository again. For a full description of the dataset, click [here](https://archive.ics.uci.edu/ml/datasets/bike+sharing+dataset)."
   ]
  },
  {
   "cell_type": "code",
   "execution_count": 1,
   "metadata": {
    "collapsed": true
   },
   "outputs": [],
   "source": [
    "import pandas as pd\n",
    "import matplotlib.pyplot as plt\n",
    "import numpy as np\n",
    "import seaborn as sns\n",
    "%matplotlib inline\n",
    "\n",
    "data = pd.read_csv('bike_rental_hour.csv')"
   ]
  },
  {
   "cell_type": "markdown",
   "metadata": {},
   "source": [
    "### Measuring Dispersion\n",
    "\n",
    "There are two categories of dispersion measures, and within these two categories there are five measures I want to talk about.\n",
    "\n",
    "1) Absolute Measures of Dispersion \n",
    "    + Range\n",
    "    + Quartile Deviation\n",
    "    + Mean Deviation\n",
    "    + Standard Deviation\n",
    "    + Variance\n",
    "    \n",
    "2) Relative Measures of Dispersion\n",
    "    + Coefficient of Range\n",
    "    + Coefficient of Quartile Deviation\n",
    "    + Coefficient of Mean Deviation\n",
    "    + Coefficient of Standard Deviation\n",
    "    + Coefficient of Variation\n",
    "\n",
    "I won't go into details with the differences between the two categories. But, I will go in details with each measure. For more details click [here](https://www.emathzone.com/tutorials/basic-statistics/measures-of-dispersion.html). \n",
    "\n",
    "\n",
    "In summary, the absolute measures of dispersion give answers in the same units as the original observations. \n",
    "The relative measures of dispersion are ratios and do not give answers in the same units as the original observations."
   ]
  },
  {
   "cell_type": "markdown",
   "metadata": {},
   "source": [
    "#### The Range\n",
    "\n",
    "Definition:\n",
    "\n",
    "$$ \\text{Range} = x_{max} - x_{min} $$\n",
    "\n",
    "Where $x_{max}$ is the maximum value in a given set of observations and $x_{min}$ is the minimum value in a given set of observations. The range only tells us about the total spread of data by taking the difference between the minimum and maximum value. The practical uses for the range are very limited in statistics. However, this measure is often represented in its equation form in specification sheets. For example, clothes are seperated into various size categories. These size categories generally have would have to fit a certain range of measurements.\n",
    "\n",
    "The Coefficient of Range is defined as:\n",
    "\n",
    "$$ \\text{Coefficient of Range} = \\frac{x_{max} - x_{min}} {x_{max} + x_{min}}$$\n",
    "\n",
    "This equation is the standardized form of $x_{max} - x_{min}$. The coefficient of range is a bit more useful because it allows for comparison across different sets of data.\n"
   ]
  },
  {
   "cell_type": "code",
   "execution_count": 2,
   "metadata": {},
   "outputs": [
    {
     "name": "stdout",
     "output_type": "stream",
     "text": [
      "Range_cnt: 976\n",
      "COR_cnt: 0.9979550102249489\n",
      "-----\n",
      "Range_casual: 367\n",
      "COR_casual: 1.0\n"
     ]
    }
   ],
   "source": [
    "print('Range_cnt: {}'.format((data['cnt'].max() - data['cnt'].min())))\n",
    "print('COR_cnt: {}'.format((data['cnt'].max() - data['cnt'].min())/(data['cnt'].max() + data['cnt'].min())))\n",
    "print('-----')\n",
    "print('Range_casual: {}'.format((data['casual'].max() - data['casual'].min())))\n",
    "print('COR_casual: {}'.format((data['casual'].max() - data['casual'].min())/(data['casual'].max() + data['casual'].min())))"
   ]
  },
  {
   "cell_type": "markdown",
   "metadata": {
    "collapsed": true
   },
   "source": [
    "In the code above, we calculated the range and the coefficient of range for the 'cnt' column and the 'casual' column. The range for the 'cnt' column is 976, and the range for the 'casual' column is 367. This does <b>not</b> imply that the dispersion is greater in the 'cnt' column. The range is an absolute measure specific to the column itself.\n",
    "\n",
    "We have to compare te dispersion using the coefficient of range. In this case, both columns share similar levels of dispersion."
   ]
  },
  {
   "cell_type": "markdown",
   "metadata": {},
   "source": [
    "#### The Mean Absolute Deviation\n",
    "\n",
    "The arithmetic mean of absolute deviations from the central tendency in a set of observations is defined as the mean deviation. The central tendency, or the \"middle\" of the data can be the mean, the median, or the mode.\n",
    "\n",
    "$$ \\text{Mean Deviation} = \\frac{\\sum\\lvert{X} - {X_{center}}\\lvert} {n} $$\n",
    "\n",
    "Logically speaking, this formula represents the average of absolute distances away from the \"center\" in a given set of data. This value provide some indication of variability of data."
   ]
  },
  {
   "cell_type": "code",
   "execution_count": null,
   "metadata": {
    "collapsed": true
   },
   "outputs": [],
   "source": []
  },
  {
   "cell_type": "code",
   "execution_count": null,
   "metadata": {
    "collapsed": true
   },
   "outputs": [],
   "source": []
  }
 ],
 "metadata": {
  "kernelspec": {
   "display_name": "Python 3",
   "language": "python",
   "name": "python3"
  },
  "language_info": {
   "codemirror_mode": {
    "name": "ipython",
    "version": 3
   },
   "file_extension": ".py",
   "mimetype": "text/x-python",
   "name": "python",
   "nbconvert_exporter": "python",
   "pygments_lexer": "ipython3",
   "version": "3.5.2"
  }
 },
 "nbformat": 4,
 "nbformat_minor": 2
}
